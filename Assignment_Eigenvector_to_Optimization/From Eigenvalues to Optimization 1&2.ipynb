{
 "cells": [
  {
   "cell_type": "markdown",
   "metadata": {},
   "source": [
    "# Assignment 1 : From Eigenvalues to Optimization "
   ]
  },
  {
   "cell_type": "markdown",
   "metadata": {},
   "source": [
    "**Task 1.** Read Good Optimization introduction for ML and this discussion and outline: \n",
    "What are the basic elements of optimization? Give some examples. \n",
    "Why is optimization important in machine learning? Give some examples. "
   ]
  },
  {
   "cell_type": "markdown",
   "metadata": {},
   "source": [
    "### What are the basic elements of optimization? Give some examples."
   ]
  },
  {
   "cell_type": "markdown",
   "metadata": {},
   "source": [
    "Basic elements of optimization:\n",
    "1. Variables: Parameters which will be passed to optimization algorithm.\n",
    "2. Constraints: These are the boundaries within which the parameters (or some combination thereof) must fall\n",
    "3. Objective Function: This is the set of goal towards which the algorithm drives the solution. For machine learning, often this amount to minimizing some error measure or maximizing some utility function."
   ]
  },
  {
   "cell_type": "markdown",
   "metadata": {},
   "source": [
    "#### For example:\n",
    "\n",
    "Example question : The regular air fare between Boston and San Francisco is 500 dolars . An airline using\n",
    "planes with a capacity of 300 passengers on this route observes that they fly with an average of\n",
    "180 passengers. Market research tells the airlines’ managers that each $ 5 fare reduction would\n",
    "attract, on average, 3 more passengers for each flight. How should they set the fare to maximize\n",
    "their revenue? Explain your reasoning to receive credit.\n",
    "\n",
    "1. Variables : 1- Air fare which will be regulated 2- Quantity of passengers\n",
    "2. Constraints : Air fare should be regulated by preserving from making loss.\n",
    "3. Objective Function : Making the most profit arranging with number of quantity of passengers and air fare"
   ]
  },
  {
   "cell_type": "markdown",
   "metadata": {},
   "source": [
    "### Why is optimization important in machine learning? Give some examples. "
   ]
  },
  {
   "cell_type": "markdown",
   "metadata": {},
   "source": [
    "Optimization is used to find more accurate results by using loss function. And in machine learning, Predicted values are deduced from some finite data. That's why optimization is very important for machine learning algorithms. **For example** while working on neural networks, arranging weight and type of nodes is done by result of optimization of loss function between predicted values and actual values."
   ]
  },
  {
   "cell_type": "markdown",
   "metadata": {},
   "source": [
    "**Task 2.** Recollect : What is a loss function /cost function? Give examples "
   ]
  },
  {
   "cell_type": "markdown",
   "metadata": {},
   "source": [
    "**Loss function or cost function** is a function that maps an event or values of one or more variables onto a real number intuitively representing some \"cost\" associated with the event.Basically If predictions deviates too much from actual results, loss function would cough up a very large number. Gradually, with the help of some optimization function, loss function learns to reduce the error in prediction.\n",
    "**For example:** You have neural network which takes some data related to some house and predicts its price. Loss function is how predicted values deviates from the actual prices."
   ]
  },
  {
   "cell_type": "code",
   "execution_count": null,
   "metadata": {},
   "outputs": [],
   "source": []
  }
 ],
 "metadata": {
  "kernelspec": {
   "display_name": "Python 3",
   "language": "python",
   "name": "python3"
  },
  "language_info": {
   "codemirror_mode": {
    "name": "ipython",
    "version": 3
   },
   "file_extension": ".py",
   "mimetype": "text/x-python",
   "name": "python",
   "nbconvert_exporter": "python",
   "pygments_lexer": "ipython3",
   "version": "3.6.8"
  }
 },
 "nbformat": 4,
 "nbformat_minor": 2
}
