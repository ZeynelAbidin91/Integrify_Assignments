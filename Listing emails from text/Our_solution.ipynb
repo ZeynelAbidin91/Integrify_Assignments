{
 "cells": [
  {
   "cell_type": "code",
   "execution_count": 1,
   "metadata": {},
   "outputs": [],
   "source": [
    "import re"
   ]
  },
  {
   "cell_type": "code",
   "execution_count": 2,
   "metadata": {},
   "outputs": [],
   "source": [
    "f= open(\"email-exchanges.txt\",\"r\")\n",
    "read_file = f.readlines()"
   ]
  },
  {
   "cell_type": "code",
   "execution_count": 34,
   "metadata": {
    "scrolled": false
   },
   "outputs": [],
   "source": [
    "email_list = []\n",
    "for line in read_file:\n",
    "    if re.match(\"[Ff]rom\\s\" , line):\n",
    "        #print(line)\n",
    "        result = re.search(r\"[a-zA-Z0-9_.+-]+@[a-zA-Z0-9_.+-]+\", line)\n",
    "        email_list.append(result.group(0))\n",
    "        #print(result.group(0))"
   ]
  },
  {
   "cell_type": "code",
   "execution_count": 35,
   "metadata": {},
   "outputs": [
    {
     "name": "stdout",
     "output_type": "stream",
     "text": [
      "['stephen.marquard@uct.ac.za', 'louis@media.berkeley.edu', 'zqian@umich.edu', 'rjlowe@iupui.edu', 'zqian@umich.edu', 'rjlowe@iupui.edu', 'cwen@iupui.edu', 'cwen@iupui.edu', 'gsilver@umich.edu', 'gsilver@umich.edu', 'zqian@umich.edu', 'gsilver@umich.edu', 'wagnermr@iupui.edu', 'zqian@umich.edu', 'antranig@caret.cam.ac.uk', 'gopal.ramasammycook@gmail.com', 'david.horwitz@uct.ac.za', 'david.horwitz@uct.ac.za', 'david.horwitz@uct.ac.za', 'david.horwitz@uct.ac.za', 'stephen.marquard@uct.ac.za', 'louis@media.berkeley.edu', 'louis@media.berkeley.edu', 'ray@media.berkeley.edu', 'cwen@iupui.edu', 'cwen@iupui.edu', 'cwen@iupui.edu']\n"
     ]
    }
   ],
   "source": [
    "print(email_list)"
   ]
  },
  {
   "cell_type": "code",
   "execution_count": 36,
   "metadata": {},
   "outputs": [],
   "source": [
    "def dict_email(email_list = email_list):\n",
    "    \n",
    "    \n",
    "    d=dict(enumerate(email_list))\n",
    "    return d\n",
    "d = dict_email()    "
   ]
  },
  {
   "cell_type": "code",
   "execution_count": 28,
   "metadata": {},
   "outputs": [
    {
     "data": {
      "text/plain": [
       "{0: 'stephen.marquard@uct.ac.za',\n",
       " 1: 'louis@media.berkeley.edu',\n",
       " 2: 'zqian@umich.edu',\n",
       " 3: 'rjlowe@iupui.edu',\n",
       " 4: 'zqian@umich.edu',\n",
       " 5: 'rjlowe@iupui.edu',\n",
       " 6: 'cwen@iupui.edu',\n",
       " 7: 'cwen@iupui.edu',\n",
       " 8: 'gsilver@umich.edu',\n",
       " 9: 'gsilver@umich.edu',\n",
       " 10: 'zqian@umich.edu',\n",
       " 11: 'gsilver@umich.edu',\n",
       " 12: 'wagnermr@iupui.edu',\n",
       " 13: 'zqian@umich.edu',\n",
       " 14: 'antranig@caret.cam.ac.uk',\n",
       " 15: 'gopal.ramasammycook@gmail.com',\n",
       " 16: 'david.horwitz@uct.ac.za',\n",
       " 17: 'david.horwitz@uct.ac.za',\n",
       " 18: 'david.horwitz@uct.ac.za',\n",
       " 19: 'david.horwitz@uct.ac.za',\n",
       " 20: 'stephen.marquard@uct.ac.za',\n",
       " 21: 'louis@media.berkeley.edu',\n",
       " 22: 'louis@media.berkeley.edu',\n",
       " 23: 'ray@media.berkeley.edu',\n",
       " 24: 'cwen@iupui.edu',\n",
       " 25: 'cwen@iupui.edu',\n",
       " 26: 'cwen@iupui.edu'}"
      ]
     },
     "execution_count": 28,
     "metadata": {},
     "output_type": "execute_result"
    }
   ],
   "source": [
    "d"
   ]
  },
  {
   "cell_type": "code",
   "execution_count": null,
   "metadata": {},
   "outputs": [],
   "source": [
    "import operator\n"
   ]
  }
 ],
 "metadata": {
  "kernelspec": {
   "display_name": "Python 3",
   "language": "python",
   "name": "python3"
  },
  "language_info": {
   "codemirror_mode": {
    "name": "ipython",
    "version": 3
   },
   "file_extension": ".py",
   "mimetype": "text/x-python",
   "name": "python",
   "nbconvert_exporter": "python",
   "pygments_lexer": "ipython3",
   "version": "3.7.3"
  }
 },
 "nbformat": 4,
 "nbformat_minor": 2
}
