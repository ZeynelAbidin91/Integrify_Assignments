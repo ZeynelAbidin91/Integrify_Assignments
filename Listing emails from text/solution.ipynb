{
 "cells": [
  {
   "cell_type": "code",
   "execution_count": 10,
   "metadata": {},
   "outputs": [
    {
     "data": {
      "text/plain": [
       "['stephen.marquard@uct.ac.za',\n",
       " 'louis@media.berkeley.edu',\n",
       " 'zqian@umich.edu',\n",
       " 'rjlowe@iupui.edu',\n",
       " 'zqian@umich.edu',\n",
       " 'rjlowe@iupui.edu',\n",
       " 'cwen@iupui.edu',\n",
       " 'cwen@iupui.edu',\n",
       " 'gsilver@umich.edu',\n",
       " 'gsilver@umich.edu',\n",
       " 'zqian@umich.edu',\n",
       " 'gsilver@umich.edu',\n",
       " 'wagnermr@iupui.edu',\n",
       " 'zqian@umich.edu',\n",
       " 'antranig@caret.cam.ac.uk',\n",
       " 'gopal.ramasammycook@gmail.com',\n",
       " 'david.horwitz@uct.ac.za',\n",
       " 'david.horwitz@uct.ac.za',\n",
       " 'david.horwitz@uct.ac.za',\n",
       " 'david.horwitz@uct.ac.za',\n",
       " 'stephen.marquard@uct.ac.za',\n",
       " 'louis@media.berkeley.edu',\n",
       " 'louis@media.berkeley.edu',\n",
       " 'ray@media.berkeley.edu',\n",
       " 'cwen@iupui.edu',\n",
       " 'cwen@iupui.edu',\n",
       " 'cwen@iupui.edu']"
      ]
     },
     "execution_count": 10,
     "metadata": {},
     "output_type": "execute_result"
    }
   ],
   "source": [
    "file_name = 'email-exchanges.txt'\n",
    "file_opened = open(file_name, 'r')\n",
    "emails = []\n",
    "for line in file_opened:\n",
    "    if (line.strip().startswith('From ')):\n",
    "        line = line.strip().split(' ')\n",
    "        emails.append(line[1])\n",
    "emails"
   ]
  },
  {
   "cell_type": "code",
   "execution_count": 13,
   "metadata": {},
   "outputs": [
    {
     "name": "stdout",
     "output_type": "stream",
     "text": [
      "['spam', 'ham', 'egg', 'egg']\n"
     ]
    }
   ],
   "source": [
    "import re\n",
    "regex_pattern = r\"spam|ham|egg\"\n",
    "txt = 'You find a spam or a ham in your email. you will never find eggs in your mails, egg'\n",
    "matches = re.findall(regex_pattern, txt)\n",
    "print(matches)"
   ]
  },
  {
   "cell_type": "code",
   "execution_count": 14,
   "metadata": {},
   "outputs": [],
   "source": [
    "freq_list = {}\n",
    "for email in emails:\n",
    "    if email not in freq_list:\n",
    "        freq_list[email] = 1\n",
    "    else:\n",
    "        freq_list[email] += 1"
   ]
  },
  {
   "cell_type": "code",
   "execution_count": 15,
   "metadata": {},
   "outputs": [
    {
     "data": {
      "text/plain": [
       "{'stephen.marquard@uct.ac.za': 2,\n",
       " 'louis@media.berkeley.edu': 3,\n",
       " 'zqian@umich.edu': 4,\n",
       " 'rjlowe@iupui.edu': 2,\n",
       " 'cwen@iupui.edu': 5,\n",
       " 'gsilver@umich.edu': 3,\n",
       " 'wagnermr@iupui.edu': 1,\n",
       " 'antranig@caret.cam.ac.uk': 1,\n",
       " 'gopal.ramasammycook@gmail.com': 1,\n",
       " 'david.horwitz@uct.ac.za': 4,\n",
       " 'ray@media.berkeley.edu': 1}"
      ]
     },
     "execution_count": 15,
     "metadata": {},
     "output_type": "execute_result"
    }
   ],
   "source": [
    "freq_list"
   ]
  },
  {
   "cell_type": "code",
   "execution_count": 22,
   "metadata": {},
   "outputs": [],
   "source": [
    "list22 = freq_list.values()"
   ]
  },
  {
   "cell_type": "code",
   "execution_count": 23,
   "metadata": {},
   "outputs": [
    {
     "data": {
      "text/plain": [
       "[1, 1, 1, 1, 2, 2, 3, 3, 4, 4, 5]"
      ]
     },
     "execution_count": 23,
     "metadata": {},
     "output_type": "execute_result"
    }
   ],
   "source": [
    "sorted(list22)"
   ]
  },
  {
   "cell_type": "code",
   "execution_count": null,
   "metadata": {},
   "outputs": [],
   "source": []
  }
 ],
 "metadata": {
  "kernelspec": {
   "display_name": "Python 3",
   "language": "python",
   "name": "python3"
  },
  "language_info": {
   "codemirror_mode": {
    "name": "ipython",
    "version": 3
   },
   "file_extension": ".py",
   "mimetype": "text/x-python",
   "name": "python",
   "nbconvert_exporter": "python",
   "pygments_lexer": "ipython3",
   "version": "3.7.3"
  }
 },
 "nbformat": 4,
 "nbformat_minor": 2
}
