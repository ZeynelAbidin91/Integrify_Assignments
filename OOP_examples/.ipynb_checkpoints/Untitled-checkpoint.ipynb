{
 "cells": [
  {
   "cell_type": "markdown",
   "metadata": {},
   "source": [
    "## Exercise 1: Creating class, attributes, methods with Online Shopping Cart"
   ]
  },
  {
   "cell_type": "code",
   "execution_count": 38,
   "metadata": {},
   "outputs": [],
   "source": [
    "class Shopping:\n",
    "    def __init__(self, name, cart, price_list,balance = 0):\n",
    "        self.name = name\n",
    "        self.cart = cart\n",
    "        self.balance = balance\n",
    "        self.price_list = price_list\n",
    "        \n",
    "    def check_balance(self):\n",
    "        print(f\"Your current balance is {self.balance} Eur\")\n",
    "    \n",
    "    def remove_item(item = None):\n",
    "        try:\n",
    "            self.cart.remove(item)\n",
    "            \n",
    "        except:\n",
    "            print(f'There is no {item} in selected goods')"
   ]
  },
  {
   "cell_type": "code",
   "execution_count": 39,
   "metadata": {},
   "outputs": [],
   "source": [
    "rita = Shopping('Rita', ['banana', 'apple'], [10, 5])"
   ]
  },
  {
   "cell_type": "code",
   "execution_count": 40,
   "metadata": {},
   "outputs": [
    {
     "data": {
      "text/plain": [
       "[10, 5]"
      ]
     },
     "execution_count": 40,
     "metadata": {},
     "output_type": "execute_result"
    }
   ],
   "source": [
    "rita.price_list"
   ]
  },
  {
   "cell_type": "code",
   "execution_count": 41,
   "metadata": {},
   "outputs": [
    {
     "name": "stdout",
     "output_type": "stream",
     "text": [
      "Your current balance is 0 Eur\n"
     ]
    }
   ],
   "source": [
    "rita.check_balance()"
   ]
  },
  {
   "cell_type": "code",
   "execution_count": 42,
   "metadata": {},
   "outputs": [
    {
     "ename": "TypeError",
     "evalue": "remove_item() takes from 0 to 1 positional arguments but 2 were given",
     "output_type": "error",
     "traceback": [
      "\u001b[0;31m---------------------------------------------------------------------------\u001b[0m",
      "\u001b[0;31mTypeError\u001b[0m                                 Traceback (most recent call last)",
      "\u001b[0;32m<ipython-input-42-270e9cf6a593>\u001b[0m in \u001b[0;36m<module>\u001b[0;34m\u001b[0m\n\u001b[0;32m----> 1\u001b[0;31m \u001b[0mrita\u001b[0m\u001b[0;34m.\u001b[0m\u001b[0mremove_item\u001b[0m\u001b[0;34m(\u001b[0m\u001b[0;34m'banana'\u001b[0m\u001b[0;34m)\u001b[0m\u001b[0;34m\u001b[0m\u001b[0;34m\u001b[0m\u001b[0m\n\u001b[0m",
      "\u001b[0;31mTypeError\u001b[0m: remove_item() takes from 0 to 1 positional arguments but 2 were given"
     ]
    }
   ],
   "source": [
    "rita.remove_item('banana')"
   ]
  },
  {
   "cell_type": "markdown",
   "metadata": {},
   "source": [
    "## Exercise 2: Multiple Inheritance and mro with Mendel's Dominant and Recessive Traits Theory"
   ]
  },
  {
   "cell_type": "code",
   "execution_count": 45,
   "metadata": {},
   "outputs": [],
   "source": [
    "class Dominant:\n",
    "    def __init__(self, seed_shape = 'round', pod_color = 'green', \n",
    "                 flower_color = 'white'):\n",
    "        self.seed_shape = seed_shape\n",
    "        self.pod_color = pod_color\n",
    "        self.flower_color = flower_color"
   ]
  },
  {
   "cell_type": "code",
   "execution_count": 49,
   "metadata": {},
   "outputs": [],
   "source": [
    "class Recessive:\n",
    "    def __init__(self, seed_shape = 'wrinkled', pod_color = 'yellow', \n",
    "                 flower_color = 'white'):\n",
    "        self.seed_shape = seed_shape\n",
    "        self.pod_color = pod_color\n",
    "        self.flower_color = flower_color"
   ]
  },
  {
   "cell_type": "code",
   "execution_count": 50,
   "metadata": {},
   "outputs": [],
   "source": [
    "recessive = Recessive()"
   ]
  },
  {
   "cell_type": "raw",
   "metadata": {},
   "source": []
  }
 ],
 "metadata": {
  "kernelspec": {
   "display_name": "Python 3",
   "language": "python",
   "name": "python3"
  },
  "language_info": {
   "codemirror_mode": {
    "name": "ipython",
    "version": 3
   },
   "file_extension": ".py",
   "mimetype": "text/x-python",
   "name": "python",
   "nbconvert_exporter": "python",
   "pygments_lexer": "ipython3",
   "version": "3.7.3"
  }
 },
 "nbformat": 4,
 "nbformat_minor": 2
}
