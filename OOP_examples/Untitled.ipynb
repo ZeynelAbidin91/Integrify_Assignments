{
 "cells": [
  {
   "cell_type": "markdown",
   "metadata": {},
   "source": [
    "## Exercise 1: Creating class, attributes, methods with Online Shopping Cart"
   ]
  },
  {
   "cell_type": "code",
   "execution_count": 38,
   "metadata": {},
   "outputs": [],
   "source": [
    "class Shopping:\n",
    "    def __init__(self, name, cart, price_list,balance = 0):\n",
    "        self.name = name\n",
    "        self.cart = cart\n",
    "        self.balance = balance\n",
    "        self.price_list = price_list\n",
    "        \n",
    "    def check_balance(self):\n",
    "        print(f\"Your current balance is {self.balance} Eur\")\n",
    "    \n",
    "    def remove_item(item = None):\n",
    "        try:\n",
    "            self.cart.remove(item)\n",
    "            \n",
    "        except:\n",
    "            print(f'There is no {item} in selected goods')"
   ]
  },
  {
   "cell_type": "code",
   "execution_count": 39,
   "metadata": {},
   "outputs": [],
   "source": [
    "rita = Shopping('Rita', ['banana', 'apple'], [10, 5])"
   ]
  },
  {
   "cell_type": "code",
   "execution_count": 40,
   "metadata": {},
   "outputs": [
    {
     "data": {
      "text/plain": [
       "[10, 5]"
      ]
     },
     "execution_count": 40,
     "metadata": {},
     "output_type": "execute_result"
    }
   ],
   "source": [
    "rita.price_list"
   ]
  },
  {
   "cell_type": "code",
   "execution_count": 41,
   "metadata": {},
   "outputs": [
    {
     "name": "stdout",
     "output_type": "stream",
     "text": [
      "Your current balance is 0 Eur\n"
     ]
    }
   ],
   "source": [
    "rita.check_balance()"
   ]
  },
  {
   "cell_type": "code",
   "execution_count": 42,
   "metadata": {},
   "outputs": [
    {
     "ename": "TypeError",
     "evalue": "remove_item() takes from 0 to 1 positional arguments but 2 were given",
     "output_type": "error",
     "traceback": [
      "\u001b[0;31m---------------------------------------------------------------------------\u001b[0m",
      "\u001b[0;31mTypeError\u001b[0m                                 Traceback (most recent call last)",
      "\u001b[0;32m<ipython-input-42-270e9cf6a593>\u001b[0m in \u001b[0;36m<module>\u001b[0;34m\u001b[0m\n\u001b[0;32m----> 1\u001b[0;31m \u001b[0mrita\u001b[0m\u001b[0;34m.\u001b[0m\u001b[0mremove_item\u001b[0m\u001b[0;34m(\u001b[0m\u001b[0;34m'banana'\u001b[0m\u001b[0;34m)\u001b[0m\u001b[0;34m\u001b[0m\u001b[0;34m\u001b[0m\u001b[0m\n\u001b[0m",
      "\u001b[0;31mTypeError\u001b[0m: remove_item() takes from 0 to 1 positional arguments but 2 were given"
     ]
    }
   ],
   "source": [
    "rita.remove_item('banana')"
   ]
  },
  {
   "cell_type": "markdown",
   "metadata": {},
   "source": [
    "## Exercise 2: Multiple Inheritance and mro with Mendel's Dominant and Recessive Traits Theory"
   ]
  },
  {
   "cell_type": "code",
   "execution_count": 45,
   "metadata": {},
   "outputs": [],
   "source": [
    "class Dominant:\n",
    "    def __init__(self, seed_shape = 'round', pod_color = 'green', \n",
    "                 flower_color = 'white'):\n",
    "        self.seed_shape = seed_shape\n",
    "        self.pod_color = pod_color\n",
    "        self.flower_color = flower_color"
   ]
  },
  {
   "cell_type": "code",
   "execution_count": 49,
   "metadata": {},
   "outputs": [],
   "source": [
    "class Recessive:\n",
    "    def __init__(self, seed_shape = 'wrinkled', pod_color = 'yellow', \n",
    "                 flower_color = 'white'):\n",
    "        self.seed_shape = seed_shape\n",
    "        self.pod_color = pod_color\n",
    "        self.flower_color = flower_color"
   ]
  },
  {
   "cell_type": "code",
   "execution_count": 82,
   "metadata": {},
   "outputs": [],
   "source": [
    "class Pea( Dominant, Recessive):\n",
    "    def __init__(self):\n",
    "        super().__init__()\n",
    "    \n"
   ]
  },
  {
   "cell_type": "code",
   "execution_count": 83,
   "metadata": {},
   "outputs": [],
   "source": [
    "pea = Pea()"
   ]
  },
  {
   "cell_type": "code",
   "execution_count": 84,
   "metadata": {},
   "outputs": [
    {
     "data": {
      "text/plain": [
       "'green'"
      ]
     },
     "execution_count": 84,
     "metadata": {},
     "output_type": "execute_result"
    }
   ],
   "source": [
    "pea.pod_color"
   ]
  },
  {
   "cell_type": "code",
   "execution_count": 85,
   "metadata": {},
   "outputs": [
    {
     "data": {
      "text/plain": [
       "'round'"
      ]
     },
     "execution_count": 85,
     "metadata": {},
     "output_type": "execute_result"
    }
   ],
   "source": [
    "pea.seed_shape"
   ]
  },
  {
   "cell_type": "code",
   "execution_count": 86,
   "metadata": {},
   "outputs": [
    {
     "data": {
      "text/plain": [
       "'white'"
      ]
     },
     "execution_count": 86,
     "metadata": {},
     "output_type": "execute_result"
    }
   ],
   "source": [
    "pea.flower_color"
   ]
  },
  {
   "cell_type": "code",
   "execution_count": 88,
   "metadata": {},
   "outputs": [
    {
     "name": "stdout",
     "output_type": "stream",
     "text": [
      "(<class '__main__.Pea'>, <class '__main__.Dominant'>, <class '__main__.Recessive'>, <class 'object'>)\n",
      "[<class '__main__.Pea'>, <class '__main__.Dominant'>, <class '__main__.Recessive'>, <class 'object'>]\n"
     ]
    },
    {
     "data": {
      "text/plain": [
       "True"
      ]
     },
     "execution_count": 88,
     "metadata": {},
     "output_type": "execute_result"
    }
   ],
   "source": [
    "print(Pea.__mro__) == print(Pea.mro())"
   ]
  },
  {
   "cell_type": "markdown",
   "metadata": {},
   "source": [
    "### Exercise 4: OOP with application to scVI"
   ]
  },
  {
   "cell_type": "code",
   "execution_count": 99,
   "metadata": {},
   "outputs": [],
   "source": [
    "class Trainer:\n",
    "    r\"\"\"The abstract Trainer class for training a PyTorch model and monitoring its statistics. It should be\n",
    "    inherited at least with a .loss() function to be optimized in the training loop.\n",
    "    Args:\n",
    "    :model: A model instance from class ``VAE``, ``VAEC``, ``SCANVI``\n",
    "    :gene_dataset: A gene_dataset instance like ``CortexDataset()``\n",
    "    :use_cuda: Default: ``True``.\n",
    "    :metrics_to_monitor: A list of the metrics to monitor. If not specified, will use the\n",
    "    ``default_metrics_to_monitor`` as specified in each . Default: ``None``.\n",
    "    :benchmark: if True, prevents statistics computation in the training. Default: ``False``.\n",
    "    :verbose: If statistics should be displayed along training. Default: ``None``.\n",
    "    :frequency: The frequency at which to keep track of statistics. Default: ``None``.\n",
    "    :early_stopping_metric: The statistics on which to perform early stopping. Default: ``None``.\n",
    "    :save_best_state_metric: The statistics on which we keep the network weights achieving the best store, and\n",
    "    restore them at the end of training. Default: ``None``.\n",
    "    :on: The data_loader name reference for the ``early_stopping_metric`` and ``save_best_state_metric``, that\n",
    "    should be specified if any of them is. Default: ``None``.\n",
    "    \"\"\"\n",
    "    default_metrics_to_monitor = []\n",
    "    def __init__(self, model, gene_dataset, use_cuda=True, metrics_to_monitor=None, benchmark=False,\n",
    "                 verbose=False, frequency=None, weight_decay=1e-6, early_stopping_kwargs=dict(),\n",
    "                 data_loader_kwargs=dict()):\n",
    "        self.model = model\n",
    "        self.gene_dataset = gene_dataset\n",
    "        self.data_loader_kwargs = {\n",
    "        \"batch_size\": 128,\n",
    "        \"pin_memory\": use_cuda\n",
    "        }\n",
    "        self.data_loader_kwargs.update(data_loader_kwargs)\n",
    "        self.weight_decay = weight_decay\n",
    "        self.benchmark = benchmark\n",
    "        self.epoch = -1 # epoch = self.epoch + 1 in compute metrics\n",
    "        self.training_time = 0\n",
    "        self.early_stopping = EarlyStopping(**early_stopping_kwargs)\n",
    "        \n",
    "        def __getattr__(self, name):\n",
    "            if '_posteriors' in self.__dict__:\n",
    "                _posteriors = self.__dict__['_posteriors']\n",
    "                if name.strip('_') in _posteriors:\n",
    "                    return _posteriors[name.strip('_')]\n",
    "            return object.__getattribute__(self, name)\n",
    "        def __delattr__(self, name):\n",
    "            if name.strip('_') in self._posteriors:\n",
    "                del self._posteriors[name.strip('_')]\n",
    "            else:\n",
    "                object.__delattr__(self, name)\n",
    "                \n",
    "        def register_posterior(self, name, value):\n",
    "            name = name.strip('_')\n",
    "            self._posteriors[name] = value\n",
    "            \n",
    "        def corrupt_posteriors(self, rate=0.1, corruption=\"uniform\", update_corruption=True):\n",
    "            if not hasattr(self.gene_dataset, 'corrupted') and update_corruption:\n",
    "                self.gene_dataset.corrupt(rate=rate, corruption=corruption)\n",
    "            for name, posterior in self._posteriors.items():\n",
    "                self.register_posterior(name, posterior.corrupted())"
   ]
  },
  {
   "cell_type": "markdown",
   "metadata": {},
   "source": [
    "1. What are the arguments with default values stated in the Trainer class i.e. name the arguments which are not necessary to include\n",
    "while instantiating the Trainer class?"
   ]
  },
  {
   "cell_type": "markdown",
   "metadata": {},
   "source": [
    "2. Can you name at least 2 model names the user can use as arguments while instantiating the class Trainer? e.g:\n",
    "train_object=Trainer(model=?,gene_dataset,...)"
   ]
  },
  {
   "cell_type": "markdown",
   "metadata": {},
   "source": [
    "train1 = Trainer('VAE', ...) ;\n",
    "train2 = Trainer('SCANVI', ..."
   ]
  },
  {
   "cell_type": "markdown",
   "metadata": {},
   "source": [
    "3. Can you name two arguments where you can use variable length of the arguments while instantiating the Trainer class?"
   ]
  },
  {
   "cell_type": "markdown",
   "metadata": {},
   "source": [
    "early_stopping_kwargs=dict(),\n",
    "data_loader_kwargs=dict())"
   ]
  },
  {
   "cell_type": "markdown",
   "metadata": {},
   "source": [
    "4. List all the methods that you can see under Trainer class. Which of these are Dunder methods?"
   ]
  },
  {
   "cell_type": "markdown",
   "metadata": {},
   "source": [
    "__getattr__, __delattr__"
   ]
  },
  {
   "cell_type": "code",
   "execution_count": null,
   "metadata": {},
   "outputs": [],
   "source": []
  },
  {
   "cell_type": "markdown",
   "metadata": {},
   "source": [
    "## Example 4.2"
   ]
  },
  {
   "cell_type": "code",
   "execution_count": 107,
   "metadata": {},
   "outputs": [],
   "source": [
    "class UnsupervisedTrainer(Trainer):\n",
    "    r\"\"\"The VariationalInference class for the unsupervised training of an autoencoder.\n",
    "    Args:\n",
    "    :model: A model instance from class ``VAE``, ``VAEC``, ``SCANVI``\n",
    "    :gene_dataset: A gene_dataset instance like ``CortexDataset()``\n",
    "    :train_size: The train size, either a float between 0 and 1 or and integer for the number of training samplesto use Default: ``0.8``.\n",
    "    :\\*\\*kwargs: Other keywords arguments from the general Trainer class.\n",
    "    Examples:\n",
    "    >>> gene_dataset = CortexDataset()\n",
    "    >>> vae = VAE(gene_dataset.nb_genes, n_batch=gene_dataset.n_batches * False,\n",
    "    ... n_labels=gene_dataset.n_labels)\n",
    "    >>> infer = VariationalInference(gene_dataset, vae, train_size=0.5)\n",
    "    >>> infer.train(n_epochs=20, lr=1e-3)\n",
    "    \"\"\"\n",
    "    default_metrics_to_monitor = ['ll']\n",
    "    \n",
    "    def __init__(self, model, gene_dataset, train_size=0.8, test_size=None, kl=None, **kwargs):\n",
    "        super().__init__(model, gene_dataset, **kwargs)\n",
    "        self.kl = kl\n",
    "        if type(self) is UnsupervisedTrainer:\n",
    "            self.train_set, self.test_set = self.train_test(model, gene_dataset, train_size, test_size)\n",
    "            self.train_set.to_monitor = ['ll']\n",
    "            self.test_set.to_monitor = ['ll']\n",
    "    @property\n",
    "    def posteriors_loop(self):\n",
    "        return ['train_set']\n",
    "    \n",
    "class AdapterTrainer(UnsupervisedTrainer):\n",
    "    def __init__(self, model, gene_dataset, posterior_test, frequency=5):\n",
    "        super().__init__(model, gene_dataset, frequency=frequency)\n",
    "        self.test_set = posterior_test\n",
    "        self.test_set.to_monitor = ['ll']\n",
    "        self.params = list(self.model.z_encoder.parameters()) + list(self.model.l_encoder.parameters())\n",
    "    \n",
    "    @property\n",
    "    def posteriors_loop(self):\n",
    "        return ['test_set']\n",
    "    \n",
    "    def train(self, n_path=10, n_epochs=50, **kwargs):\n",
    "        for i in range(n_path):\n",
    "            # Re-initialize to create new path\n",
    "            self.model.z_encoder.load_state_dict(self.z_encoder_state)\n",
    "            self.model.l_encoder.load_state_dict(self.l_encoder_state)\n",
    "            super().train(n_epochs, params=self.params, **kwargs)\n",
    "        return min(self.history[\"ll_test_set\"])"
   ]
  },
  {
   "cell_type": "markdown",
   "metadata": {},
   "source": [
    "Answer the following questions:\n",
    "1. Which class does UnsupervisedTrainer inherit from?\n",
    "2. If we print the AdapterTrainer.__mro__, what order of inheritance would you see?\n",
    "3. Look at the posteriors_loop method for the class AdapterTrainer. Modify the code such that now we donot want this to be the\n",
    "attribute of the class, but rather as a method which takes in argument set and returns this value and default it to ['test_set']"
   ]
  },
  {
   "cell_type": "code",
   "execution_count": null,
   "metadata": {},
   "outputs": [],
   "source": []
  }
 ],
 "metadata": {
  "kernelspec": {
   "display_name": "Python 3",
   "language": "python",
   "name": "python3"
  },
  "language_info": {
   "codemirror_mode": {
    "name": "ipython",
    "version": 3
   },
   "file_extension": ".py",
   "mimetype": "text/x-python",
   "name": "python",
   "nbconvert_exporter": "python",
   "pygments_lexer": "ipython3",
   "version": "3.7.3"
  }
 },
 "nbformat": 4,
 "nbformat_minor": 2
}
